{
  "cells": [
    {
      "cell_type": "code",
      "execution_count": null,
      "metadata": {
        "colab": {
          "base_uri": "https://localhost:8080/"
        },
        "id": "iOqrlE_SILUg",
        "outputId": "73047378-8387-4806-df67-804715aa1926"
      },
      "outputs": [
        {
          "output_type": "stream",
          "name": "stdout",
          "text": [
            "{'C': 100, 'gamma': 0.001, 'kernel': 'rbf'}\n",
            "Accuracy: 0.9874439461883409\n"
          ]
        }
      ],
      "source": [
        "#WELCOME TO EMAIL CLASSIFICATION PYTHON NOTEBOOK BY aman and aditya \n",
        "#THE FOLLOWING NOTEBOOK, WRITTEN IN PYTHON WITH THE HELP OF LIABRARIES ACCEPTS TRAINING\n",
        "#DATA SET AND WITH HELP OF VECTORISATION AND CPU / GPU  CORES OF GOOGLE LERARNS FROM TRAINING\n",
        "#DATA SET. NOW WITH THE HELP OF THESE TRAINING DATA SET WE'VE TESTED THE ACCUARCY OG THIS MODEL WHICH NEARS TO \n",
        "#AN EXCELLENT VALUE OF 98.7%\n",
        "\n",
        "import pandas as pd\n",
        "#importing pandas libraray, normally available through anaconda\n",
        "from sklearn import svm\n",
        "#features various classification, regression and clustering algorithms \n",
        "#including support vector machines, random forests, gradient boosting, k-means and DBSCAN\n",
        "# and is designed to interoperate with the Python numerical and scientific libraries NumPy and SciPy.\n",
        "from sklearn.feature_extraction.text import CountVectorizer\n",
        "from sklearn.model_selection import train_test_split, GridSearchCV\n",
        "#NOW IMPORTING RANDOM FOREST CLASSIFIER AS IT IS THE BASIS OF THE MODEL/DECISION TRUE USED HERE\n",
        "from sklearn.ensemble import RandomForestClassifier\n",
        "#Sklearn metrics are import metrics in SciKit Learn API to evaluate your machine learning algorithms. \n",
        "#Choices of metrics influences a lot of things in machine learning : Machine learning algorithm selection. \n",
        "import sklearn.metrics as metrics\n",
        "\n",
        "\n",
        "#READING THE DATA ENCODED IN UTF-8 USING PANDA .READ FUNCTION\n",
        "data = pd.read_csv(\"spam.csv\",encoding='utf-8')\n",
        "#print(data.head())\n",
        "x=data[\"EmailText\"]\n",
        "#LABELLING THE DATA\n",
        "y=data[\"Label\"]\n",
        "#READING THE DATA RANGE FROM THE GIVEN CSV TRAINING FILE\n",
        "x_train, y_train=x[0:4457],y[0:4457]\n",
        "#reading from data in range 4457\n",
        "x_test, y_test=x[4457:],y[4457:]\n",
        "\n",
        "#USING COUNTVECTORISER FUNCTION\n",
        "cv=CountVectorizer()\n",
        "#TRANSFORMING IT ML USE\n",
        "features=cv.fit_transform(x_train)\n",
        "#RADIAL BASIS FUNCTION KERNEL used in support vector machine classification.\n",
        "tuned_parameters={'kernel':['linear','rbf'],'gamma':[1e-3,1e-4],'C':[1,10,100,1000]}\n",
        "\n",
        "#BY USING ABOVE STATISTICAL TOOL AND LIBRARIES WE'LL FIT THE MODEL FOR SPAM DATA\n",
        "model=GridSearchCV(svm.SVC(),tuned_parameters)\n",
        "model.fit(features,y_train)\n",
        "print(model.best_params_)\n",
        "#AFTER LEARNING NOW MODEL IS BEING TESTED \n",
        "features_test = cv.transform(x_test)\n",
        "#NOW PRINTING THE ACCUARCY OF MODEL\n",
        "print('Accuracy:',model.score(features_test,y_test))"
      ]
    }
  ],
  "metadata": {
    "colab": {
      "collapsed_sections": [],
      "provenance": []
    },
    "interpreter": {
      "hash": "c7c8240b75f8f2fe34742c7e924d3905ce9f04450b434f32e5733aada143676a"
    },
    "kernelspec": {
      "display_name": "Python 3.7.11 64-bit ('myenv': conda)",
      "language": "python",
      "name": "python3"
    },
    "language_info": {
      "codemirror_mode": {
        "name": "ipython",
        "version": 3
      },
      "file_extension": ".py",
      "mimetype": "text/x-python",
      "name": "python",
      "nbconvert_exporter": "python",
      "pygments_lexer": "ipython3",
      "version": "3.7.11"
    }
  },
  "nbformat": 4,
  "nbformat_minor": 0
}